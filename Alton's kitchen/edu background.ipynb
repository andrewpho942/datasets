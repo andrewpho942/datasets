{
 "cells": [
  {
   "cell_type": "code",
   "execution_count": 1,
   "metadata": {},
   "outputs": [],
   "source": [
    "import pandas as pd\n",
    "import numpy as np"
   ]
  },
  {
   "cell_type": "code",
   "execution_count": 6,
   "metadata": {},
   "outputs": [
    {
     "data": {
      "text/html": [
       "<div>\n",
       "<style scoped>\n",
       "    .dataframe tbody tr th:only-of-type {\n",
       "        vertical-align: middle;\n",
       "    }\n",
       "\n",
       "    .dataframe tbody tr th {\n",
       "        vertical-align: top;\n",
       "    }\n",
       "\n",
       "    .dataframe thead th {\n",
       "        text-align: right;\n",
       "    }\n",
       "</style>\n",
       "<table border=\"1\" class=\"dataframe\">\n",
       "  <thead>\n",
       "    <tr style=\"text-align: right;\">\n",
       "      <th></th>\n",
       "      <th>Educational Attainment of U.S. Adults (ages 25 and over) by Nativity and Select Country of Birth, 2021</th>\n",
       "      <th>All Adults</th>\n",
       "      <th>Less than 9th Grade</th>\n",
       "      <th>9th-12th Grade</th>\n",
       "      <th>High School Diploma or Equivalent</th>\n",
       "      <th>Some College or Associate's Degree</th>\n",
       "      <th>Bachelor's Degree or Higher</th>\n",
       "    </tr>\n",
       "  </thead>\n",
       "  <tbody>\n",
       "    <tr>\n",
       "      <th>0</th>\n",
       "      <td>U.S. Born</td>\n",
       "      <td>188,082,000</td>\n",
       "      <td>2%</td>\n",
       "      <td>5%</td>\n",
       "      <td>27%</td>\n",
       "      <td>30%</td>\n",
       "      <td>35%</td>\n",
       "    </tr>\n",
       "    <tr>\n",
       "      <th>1</th>\n",
       "      <td>All Immigrants</td>\n",
       "      <td>40,208,000</td>\n",
       "      <td>16%</td>\n",
       "      <td>9%</td>\n",
       "      <td>22%</td>\n",
       "      <td>19%</td>\n",
       "      <td>34%</td>\n",
       "    </tr>\n",
       "    <tr>\n",
       "      <th>2</th>\n",
       "      <td>Mexico</td>\n",
       "      <td>9,783,000</td>\n",
       "      <td>34%</td>\n",
       "      <td>17%</td>\n",
       "      <td>27%</td>\n",
       "      <td>14%</td>\n",
       "      <td>9%</td>\n",
       "    </tr>\n",
       "    <tr>\n",
       "      <th>3</th>\n",
       "      <td>India</td>\n",
       "      <td>2,434,000</td>\n",
       "      <td>3%</td>\n",
       "      <td>4%</td>\n",
       "      <td>6%</td>\n",
       "      <td>7%</td>\n",
       "      <td>80%</td>\n",
       "    </tr>\n",
       "    <tr>\n",
       "      <th>4</th>\n",
       "      <td>China/Hong Kong</td>\n",
       "      <td>2,073,000</td>\n",
       "      <td>13%</td>\n",
       "      <td>7%</td>\n",
       "      <td>16%</td>\n",
       "      <td>12%</td>\n",
       "      <td>52%</td>\n",
       "    </tr>\n",
       "  </tbody>\n",
       "</table>\n",
       "</div>"
      ],
      "text/plain": [
       "  Educational Attainment of U.S. Adults (ages 25 and over) by Nativity and Select Country of Birth, 2021  \\\n",
       "0                                          U.S. Born                                                       \n",
       "1                                     All Immigrants                                                       \n",
       "2                                             Mexico                                                       \n",
       "3                                              India                                                       \n",
       "4                                    China/Hong Kong                                                       \n",
       "\n",
       "      All Adults Less than 9th Grade 9th-12th Grade   \\\n",
       "0   188,082,000                   2%              5%   \n",
       "1    40,208,000                  16%              9%   \n",
       "2     9,783,000                  34%             17%   \n",
       "3     2,434,000                   3%              4%   \n",
       "4     2,073,000                  13%              7%   \n",
       "\n",
       "  High School Diploma or Equivalent Some College or Associate's Degree  \\\n",
       "0                               27%                                30%   \n",
       "1                               22%                                19%   \n",
       "2                               27%                                14%   \n",
       "3                                6%                                 7%   \n",
       "4                               16%                                12%   \n",
       "\n",
       "  Bachelor's Degree or Higher  \n",
       "0                         35%  \n",
       "1                         34%  \n",
       "2                          9%  \n",
       "3                         80%  \n",
       "4                         52%  "
      ]
     },
     "execution_count": 6,
     "metadata": {},
     "output_type": "execute_result"
    }
   ],
   "source": [
    "immigration_edu = pd.read_csv(\"MPI-Data-Hub_EduAttainment-Nativity & byCOB_2021.csv\")\n",
    "immigration_edu.head(5)"
   ]
  },
  {
   "attachments": {},
   "cell_type": "markdown",
   "metadata": {},
   "source": [
    "\"Notes: 1) The term \"\"immigrants\"\" (also known as the foreign born) refers to people residing in the United States at the time of the population survey who were not U.S. citizens at birth. The foreign-born population includes naturalized U.S. citizens, lawful permanent immigrants (or green-card holders), refugees and asylees, certain legal nonimmigrants (including those on student, work, or some other temporary visas), and persons residing in the country without authorization. \n",
    "2) The term \"\"U.S. born\"\" refers to people residing in the United States who were U.S. citizens in one of three categories: people born in one of the 50 states or the District of Columbia; people born in U.S. Insular Areas such as Puerto Rico or Guam; or people who were born abroad to at least one U.S. citizen parent.\",,,,,,\n",
    "Source: Migration Policy Institute (MPI) tabulation of data from U.S. Census Bureau 2021 American Community Survey."
   ]
  },
  {
   "cell_type": "code",
   "execution_count": null,
   "metadata": {},
   "outputs": [],
   "source": [
    "##convert all percentage numbers in table into floats"
   ]
  }
 ],
 "metadata": {
  "kernelspec": {
   "display_name": "immigration",
   "language": "python",
   "name": "python3"
  },
  "language_info": {
   "codemirror_mode": {
    "name": "ipython",
    "version": 3
   },
   "file_extension": ".py",
   "mimetype": "text/x-python",
   "name": "python",
   "nbconvert_exporter": "python",
   "pygments_lexer": "ipython3",
   "version": "3.11.5"
  },
  "orig_nbformat": 4
 },
 "nbformat": 4,
 "nbformat_minor": 2
}
